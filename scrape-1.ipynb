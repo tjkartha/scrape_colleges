{
 "cells": [
  {
   "cell_type": "code",
   "execution_count": null,
   "metadata": {},
   "outputs": [],
   "source": [
    "## Importing packages ----------------\n",
    "import requests\n",
    "from bs4 import BeautifulSoup\n",
    "# import line_profiler\n",
    "import lxml\n",
    "import cchardet\n",
    "# from tqdm.notebook import tqdm\n",
    "# import re\n",
    "# import json\n",
    "from tqdm.notebook import tqdm\n",
    "import pandas as pd\n",
    "import numpy as np"
   ]
  },
  {
   "cell_type": "code",
   "execution_count": null,
   "metadata": {},
   "outputs": [],
   "source": [
    "pages = []\n",
    "for x in range(203):\n",
    "    page = requests.get('https://www.indcareer.com/find/all-colleges-in-maharashtra?page='+str(x))\n",
    "    pages.append(page)\n"
   ]
  },
  {
   "cell_type": "code",
   "execution_count": null,
   "metadata": {},
   "outputs": [],
   "source": [
    "soups = []\n",
    "for x in range(len(pages)):\n",
    "    soup = BeautifulSoup(pages[x].content, 'html.parser')\n",
    "    soups.append(soup)"
   ]
  },
  {
   "cell_type": "code",
   "execution_count": null,
   "metadata": {},
   "outputs": [],
   "source": [
    "links = []\n",
    "for x in soups:\n",
    "    # print (\"Page ------\")\n",
    "    for y in x.find_all(\"h4\"):  \n",
    "        # print (str(y)[13:].split('\" title=')[0])\n",
    "        link = str(y)[13:].split('\" title=')[0]\n",
    "        links.append(link)\n",
    "        # print (str(y).split('\" title=')[0].split('href=\"')[1])     \n",
    "        # print (y.split(\"title=\")[0])\n",
    "        # break\n",
    "        # links.append((str(y).split('\" title=')[0].split('href=\"')[1]))\n",
    "    # break"
   ]
  },
  {
   "cell_type": "code",
   "execution_count": null,
   "metadata": {},
   "outputs": [],
   "source": [
    "links"
   ]
  },
  {
   "cell_type": "code",
   "execution_count": null,
   "metadata": {},
   "outputs": [],
   "source": [
    "links_clean = []\n",
    "\n",
    "for x in links:\n",
    "    if (x != 'dal-title\" id=\"myModalLabel\">Maharashtra</h4>'):\n",
    "        links_clean.append(x)"
   ]
  },
  {
   "cell_type": "code",
   "execution_count": null,
   "metadata": {},
   "outputs": [],
   "source": [
    "links_clean"
   ]
  },
  {
   "cell_type": "code",
   "execution_count": null,
   "metadata": {},
   "outputs": [],
   "source": [
    "names = []\n",
    "phones = []\n",
    "# names_phones = np.zeros(2).reshape(1, 2)\n",
    "for x in tqdm(range(len(links_clean))):\n",
    "    college = requests.get('https://www.indcareer.com' + links_clean[x])\n",
    "    # soup = BeautifulSoup(college.content, 'html.parser')\n",
    "    soup = BeautifulSoup(college.content, 'lxml')\n",
    "\n",
    "    # if (str(soup.find_all('caption'))[29:].split(' </b>')[0] != \"Secondary Education Society Shyamrao Bapu Kapgate Arts College, Bhandara\"):\n",
    "    #     try:\n",
    "    #         print (str(soup.find_all('caption'))[29:].split(' </b>')[0])\n",
    "    #         # print (str(soup).split('Phone </th><td> ')[1].split('</td>')[0])\n",
    "    #     except IndexError:\n",
    "    #         pass\n",
    "    #         name = str(soup.find_all('caption'))[29:].split(' </b>')[0]\n",
    "    #         names.append(name)\n",
    "    #     try:\n",
    "    #         print (str(soup).split('Phone </th><td> ')[1].split('</td>')[0])\n",
    "    #     except IndexError:\n",
    "    #     # continue\n",
    "    #         pass\n",
    "    #         phone = str(soup).split('Phone </th><td> ')[1].split(' </td>')[0]\n",
    "    #         phones.append(phone)\n",
    "\n",
    "    try:\n",
    "        print (str(soup.find_all('caption'))[29:].split(' </b>')[0])\n",
    "        name = str(soup.find_all('caption'))[29:].split(' </b>')[0]\n",
    "        # print (str(soup).split('Phone </th><td> ')[1].split('</td>')[0])\n",
    "    except IndexError:\n",
    "        # pass \n",
    "        # name = str(soup.find_all('caption'))[29:].split(' </b>')[0]\n",
    "        names.append(name)\n",
    "\n",
    "    try:\n",
    "        print (str(soup).split('Phone </th><td> ')[1].split('</td>')[0])\n",
    "        phone = str(soup).split('Phone </th><td> ')[1].split(' </td>')[0]\n",
    "        phones.append(phone)\n",
    "    except IndexError:\n",
    "        phones.append(name)\n",
    "        # continue\n",
    "        # pass\n",
    "        # phone = str(soup).split('Phone </th><td> ')[1].split(' </td>')[0]\n",
    "        # phones.append(phone)\n"
   ]
  },
  {
   "cell_type": "code",
   "execution_count": null,
   "metadata": {},
   "outputs": [],
   "source": [
    "len(names)"
   ]
  },
  {
   "cell_type": "code",
   "execution_count": null,
   "metadata": {},
   "outputs": [],
   "source": [
    "phones"
   ]
  },
  {
   "cell_type": "code",
   "execution_count": null,
   "metadata": {},
   "outputs": [],
   "source": [
    "names_phones"
   ]
  },
  {
   "cell_type": "code",
   "execution_count": null,
   "metadata": {},
   "outputs": [],
   "source": [
    "names = np.array(names)\n",
    "phones = np.array(phones)\n",
    "names_phones = np.hstack((names[:-1].reshape(len(names)-1, 1), phones.reshape(len(phones), 1)))\n",
    "names_phones = pd.DataFrame(names_phones)\n",
    "names_phones.to_excel(\"names_phones.xlsx\", index=False)"
   ]
  },
  {
   "cell_type": "code",
   "execution_count": null,
   "metadata": {},
   "outputs": [],
   "source": [
    "# college.text.split(\"caption class\")[1].split(\"Email\")[1][:300]"
   ]
  },
  {
   "cell_type": "code",
   "execution_count": null,
   "metadata": {},
   "outputs": [],
   "source": [
    "# def decodeEmail(e):\n",
    "#     de = \"\"\n",
    "#     k = int(e[:2], 16)\n",
    "\n",
    "#     for i in range(2, len(e)-1, 2):\n",
    "#         de += chr(int(e[i:i+2], 16)^k)\n",
    "\n",
    "#     return de"
   ]
  },
  {
   "cell_type": "code",
   "execution_count": null,
   "metadata": {},
   "outputs": [],
   "source": [
    "# <span id=\"signature_email\"><a class=\"__cf_email__\" href=\"/cdn-cgi/l/email-protection\" data-cfemail=\"30425f5e70584346515c5c531e535f5d\">[email&#160;protected]</a><script data-cfhash='f9e31' type=\"text/javascript\">/* <![CDATA[ */!function(t,e,r,n,c,a,p){try{t=document.currentScript||function(){for(t=document.getElementsByTagName('script'),e=t.length;e--;)if(t[e].getAttribute('data-cfhash'))return t[e]}();if(t&&(c=t.previousSibling)){p=t.parentNode;if(a=c.getAttribute('data-cfemail')){for(e='',r='0x'+a.substr(0,2)|0,n=2;a.length-n;n+=2)e+='%'+('0'+('0x'+a.substr(n,2)^r).toString(16)).slice(-2);p.replaceChild(document.createTextNode(decodeURIComponent(e)),c)}p.removeChild(t)}}catch(u){}}()/* ]]> */</script></span></span> <span class=\"separator\">|</span>"
   ]
  },
  {
   "cell_type": "code",
   "execution_count": null,
   "metadata": {},
   "outputs": [],
   "source": []
  }
 ],
 "metadata": {
  "kernelspec": {
   "display_name": "Python 3.10.4 ('envy')",
   "language": "python",
   "name": "python3"
  },
  "language_info": {
   "codemirror_mode": {
    "name": "ipython",
    "version": 3
   },
   "file_extension": ".py",
   "mimetype": "text/x-python",
   "name": "python",
   "nbconvert_exporter": "python",
   "pygments_lexer": "ipython3",
   "version": "3.10.4"
  },
  "orig_nbformat": 4,
  "vscode": {
   "interpreter": {
    "hash": "c8fba39c4649d197c7650bcf4709d611bf83b697fd584eb63ffa156e411b782e"
   }
  }
 },
 "nbformat": 4,
 "nbformat_minor": 2
}
